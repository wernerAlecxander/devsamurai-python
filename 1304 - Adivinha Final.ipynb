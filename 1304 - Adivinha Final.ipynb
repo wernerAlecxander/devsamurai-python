{
  "nbformat": 4,
  "nbformat_minor": 0,
  "metadata": {
    "colab": {
      "provenance": []
    },
    "kernelspec": {
      "name": "python3",
      "display_name": "Python 3"
    },
    "language_info": {
      "name": "python"
    }
  },
  "cells": [
    {
      "cell_type": "code",
      "source": [
        "import random\n",
        "\n",
        "numero_minimo = int(input('Qual o numero minimo do intervalo?\\n'))\n",
        "numero_maximo = int(input('Qual o numero máximo do intervalo?\\n'))\n",
        "\n",
        "tentativas = int(input('Quantas tentativas para acertar?\\n'))\n",
        "\n",
        "numero_sorteado = random.randint(numero_minimo, numero_maximo)\n",
        "\n",
        "while True: \n",
        "  tentativa = int(input(f'Digite um numero entre {numero_minimo} e {numero_maximo}.\\n'))\n",
        "\n",
        "  if tentativa == numero_sorteado:\n",
        "    print('Parabéns você acertou o numero.')\n",
        "    break\n",
        "  else:\n",
        "    tentativas -= 1  #tentativas = tentativas - 1\n",
        "    if tentativas == 0:\n",
        "      print(f'Você não acertou o número e não tem mais tentativas. O número era {numero_sorteado}')\n",
        "      break\n",
        "    else:\n",
        "      print(f'Número errado. Tente novamente. Você ainda tem {tentativas} tentativas.')"
      ],
      "metadata": {
        "colab": {
          "base_uri": "https://localhost:8080/"
        },
        "id": "og6kVUhqgQCl",
        "outputId": "fd0ec02e-e3fd-477a-d698-b98f75b6bdb1"
      },
      "execution_count": 19,
      "outputs": [
        {
          "output_type": "stream",
          "name": "stdout",
          "text": [
            "Qual o numero minimo do intervalo?\n",
            "15\n",
            "Qual o numero máximo do intervalo?\n",
            "30\n",
            "Quantas tentativas para acertar?\n",
            "5\n",
            "Digite um numero entre 15 e 30.\n",
            "18\n",
            "Número errado. Tente novamente. Você ainda tem 4 tentativas.\n",
            "Digite um numero entre 15 e 30.\n",
            "28\n",
            "Número errado. Tente novamente. Você ainda tem 3 tentativas.\n",
            "Digite um numero entre 15 e 30.\n",
            "15\n",
            "Número errado. Tente novamente. Você ainda tem 2 tentativas.\n",
            "Digite um numero entre 15 e 30.\n",
            "29\n",
            "Número errado. Tente novamente. Você ainda tem 1 tentativas.\n",
            "Digite um numero entre 15 e 30.\n",
            "25\n",
            "Você não acertou o número e não tem mais tentativas. O número era 20\n"
          ]
        }
      ]
    },
    {
      "cell_type": "code",
      "source": [],
      "metadata": {
        "id": "LgRB_-C_m8Nd"
      },
      "execution_count": null,
      "outputs": []
    }
  ]
}